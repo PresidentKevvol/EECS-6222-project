{
 "cells": [
  {
   "cell_type": "markdown",
   "id": "64975feb-d3b9-40a0-91d4-2bb8b8ab48c6",
   "metadata": {},
   "source": [
    "# Galois Field GF(2) polynomials and its arithmetic"
   ]
  },
  {
   "cell_type": "code",
   "execution_count": 1,
   "id": "1a31ff0d-68a5-4cef-a86b-ff297f115a99",
   "metadata": {},
   "outputs": [],
   "source": [
    "import numpy as np"
   ]
  },
  {
   "cell_type": "code",
   "execution_count": 2,
   "id": "976fa6b6-ebc5-4ad1-8077-ddd2edb80b48",
   "metadata": {},
   "outputs": [],
   "source": [
    "from polynomial import *"
   ]
  },
  {
   "cell_type": "code",
   "execution_count": 3,
   "id": "294dbb06-8a20-4851-a410-a4d4353235a6",
   "metadata": {},
   "outputs": [],
   "source": [
    "# a = Polynomial_gf2([0, 1, 1, 0, 1])\n",
    "a = Polynomial_gf2([0, 1, 1, 0, 1, 1, 1])\n",
    "b = Polynomial_gf2([1, 1, 0, 0, 0, 1, 1])"
   ]
  },
  {
   "cell_type": "markdown",
   "id": "cdd1ec29-677e-4794-9ae3-78013368b483",
   "metadata": {},
   "source": [
    "### Basic Operations"
   ]
  },
  {
   "cell_type": "markdown",
   "id": "a933fb10-b082-45bd-9a81-ebb5b6e985a2",
   "metadata": {},
   "source": [
    "Adding is same as subtracting"
   ]
  },
  {
   "cell_type": "code",
   "execution_count": 4,
   "id": "c48fa93b-8bb6-4e09-b1cd-a5b45651ccb8",
   "metadata": {},
   "outputs": [
    {
     "data": {
      "text/plain": [
       "[1, 0, 1, 0, 1]"
      ]
     },
     "execution_count": 4,
     "metadata": {},
     "output_type": "execute_result"
    }
   ],
   "source": [
    "c = a + b\n",
    "c.coeff"
   ]
  },
  {
   "cell_type": "code",
   "execution_count": 5,
   "id": "33b1aa68-3807-48c9-bff5-3d24068c8399",
   "metadata": {},
   "outputs": [
    {
     "data": {
      "text/plain": [
       "[1, 0, 1, 0, 1]"
      ]
     },
     "execution_count": 5,
     "metadata": {},
     "output_type": "execute_result"
    }
   ],
   "source": [
    "c = a - b\n",
    "c.coeff"
   ]
  },
  {
   "cell_type": "code",
   "execution_count": 6,
   "id": "7dfd4dca-7da6-4513-acde-a7e1f04cacd9",
   "metadata": {},
   "outputs": [
    {
     "data": {
      "text/plain": [
       "[0, 1, 0, 1, 1, 0, 1, 1, 1, 1, 0, 0, 1]"
      ]
     },
     "execution_count": 6,
     "metadata": {},
     "output_type": "execute_result"
    }
   ],
   "source": [
    "d = a * b\n",
    "d.coeff"
   ]
  },
  {
   "cell_type": "code",
   "execution_count": 7,
   "id": "71db99df-a362-42b7-a1a6-da42c05643d3",
   "metadata": {},
   "outputs": [
    {
     "data": {
      "text/plain": [
       "[0, 0, 0, 0, 1, 0, 1, 0, 1]"
      ]
     },
     "execution_count": 7,
     "metadata": {},
     "output_type": "execute_result"
    }
   ],
   "source": [
    "cx4 = c * X4\n",
    "cx4.coeff"
   ]
  },
  {
   "cell_type": "code",
   "execution_count": null,
   "id": "ad014976-1b2e-4ec1-9889-9e60e37bff52",
   "metadata": {},
   "outputs": [],
   "source": []
  },
  {
   "cell_type": "markdown",
   "id": "9b5966c6-fdb0-496a-bd89-d42c95943265",
   "metadata": {},
   "source": [
    "### Field operations with modulo\n",
    "of polynomials of GF(2) elements"
   ]
  },
  {
   "cell_type": "markdown",
   "id": "ded81faf-d46e-4e22-a175-06c88a60d38d",
   "metadata": {},
   "source": [
    "From NASA memorandum: \\\n",
    "table 1.4.2-1 \\\n",
    "$F(x) = x^4 + x + 1$ \\\n",
    "$\\alpha = x$"
   ]
  },
  {
   "cell_type": "code",
   "execution_count": 8,
   "id": "bc125fe0-94f6-47b2-a82d-8fdce6449fea",
   "metadata": {},
   "outputs": [],
   "source": [
    "F = X4 + X + p_1"
   ]
  },
  {
   "cell_type": "code",
   "execution_count": 9,
   "id": "11e2f1bb-667f-4745-87ce-59177d07fe36",
   "metadata": {},
   "outputs": [
    {
     "data": {
      "text/plain": [
       "[0, 0, 1, 1]"
      ]
     },
     "execution_count": 9,
     "metadata": {},
     "output_type": "execute_result"
    }
   ],
   "source": [
    "# from the NASA memorandum\n",
    "# here, a = X2, thus a^3 = X^6 aka X6\n",
    "a3 = X6 % F\n",
    "# should return X3 + X2 aka [0, 0, 1, 1]\n",
    "a3.coeff"
   ]
  },
  {
   "cell_type": "code",
   "execution_count": 10,
   "id": "063c9858-b303-4f45-9360-055a89ead4c3",
   "metadata": {},
   "outputs": [
    {
     "data": {
      "text/plain": [
       "[1, 0, 1]"
      ]
     },
     "execution_count": 10,
     "metadata": {},
     "output_type": "execute_result"
    }
   ],
   "source": [
    "a4 = X_(8) % F\n",
    "# should return X2 + 1 aka [1, 0, 1]\n",
    "a4.coeff"
   ]
  },
  {
   "cell_type": "code",
   "execution_count": 11,
   "id": "f81b473d-6d1f-4322-ad7e-dbfec0b2dce8",
   "metadata": {},
   "outputs": [
    {
     "data": {
      "text/plain": [
       "[1, 0, 0, 1]"
      ]
     },
     "execution_count": 11,
     "metadata": {},
     "output_type": "execute_result"
    }
   ],
   "source": [
    "((a3 * a4) % F).coeff"
   ]
  },
  {
   "cell_type": "code",
   "execution_count": null,
   "id": "53246005-decc-4562-ac7f-383db579e0c6",
   "metadata": {},
   "outputs": [],
   "source": []
  },
  {
   "cell_type": "markdown",
   "id": "920fded2-80ba-4b2a-b561-3521833db83f",
   "metadata": {},
   "source": [
    "modulo exponent"
   ]
  },
  {
   "cell_type": "code",
   "execution_count": 12,
   "id": "015616a0-5b3d-494a-8b6c-d6f33a214bb8",
   "metadata": {},
   "outputs": [],
   "source": [
    "al = X"
   ]
  },
  {
   "cell_type": "code",
   "execution_count": 13,
   "id": "07594373-1443-4762-9ccc-7b3070d2f0ec",
   "metadata": {},
   "outputs": [
    {
     "data": {
      "text/plain": [
       "[1, 1, 1, 1]"
      ]
     },
     "execution_count": 13,
     "metadata": {},
     "output_type": "execute_result"
    }
   ],
   "source": [
    "al.pow_mod(12, F).coeff"
   ]
  },
  {
   "cell_type": "code",
   "execution_count": 14,
   "id": "cebc7dda-4d68-4ad9-a040-63cee49227f8",
   "metadata": {},
   "outputs": [
    {
     "data": {
      "text/plain": [
       "[1, 0, 1, 1]"
      ]
     },
     "execution_count": 14,
     "metadata": {},
     "output_type": "execute_result"
    }
   ],
   "source": [
    "al.pow_mod(13, F).coeff"
   ]
  },
  {
   "cell_type": "code",
   "execution_count": null,
   "id": "c7e5e2e0-b991-4d60-b93f-f073b075c6d6",
   "metadata": {},
   "outputs": [],
   "source": []
  },
  {
   "cell_type": "code",
   "execution_count": null,
   "id": "80ea1c8c-9f1f-458e-9184-acb6aac0e370",
   "metadata": {},
   "outputs": [],
   "source": []
  },
  {
   "cell_type": "code",
   "execution_count": null,
   "id": "e7d1e57d-32df-49e4-b719-e2260d27677c",
   "metadata": {},
   "outputs": [],
   "source": []
  },
  {
   "cell_type": "markdown",
   "id": "cafcabb8-02d9-4821-a8be-65e8346590e6",
   "metadata": {},
   "source": [
    "### Now we look at GF(16)\n",
    "GF(2^4) is a field where elements are polynomials of at max order 4, and the addition and multiplication operators are addition and multiplication of the polynomials modulo some generator polynomial. \n",
    "\n",
    "A good generator polynomial is $F(x) = x^4 + x + 1$ which is what we will be using"
   ]
  },
  {
   "cell_type": "markdown",
   "id": "6444e7c3-6e56-43ed-a3c3-f9bfa04df7ab",
   "metadata": {},
   "source": [
    "This should look exactly the same as TABLE 1.4.5-2"
   ]
  },
  {
   "cell_type": "code",
   "execution_count": 15,
   "id": "f58ec0c1-86a6-4cf0-87a1-73b0ccd97131",
   "metadata": {},
   "outputs": [],
   "source": [
    "add_table = []\n",
    "\n",
    "for i in range(-1, 15):\n",
    "    row = []\n",
    "    for j in range(-1, 15):\n",
    "        row.append(gf16_add_table[(i, j)])\n",
    "    add_table.append(row)\n",
    "\n",
    "add_table = np.array(add_table)"
   ]
  },
  {
   "cell_type": "code",
   "execution_count": 16,
   "id": "fc76e35e-486f-4ecf-a288-2545983d1480",
   "metadata": {},
   "outputs": [
    {
     "data": {
      "text/plain": [
       "array([[-1,  0,  1,  2,  3,  4,  5,  6,  7,  8,  9, 10, 11, 12, 13, 14],\n",
       "       [ 0, -1,  4,  8, 14,  1, 10, 13,  9,  2,  7,  5, 12, 11,  6,  3],\n",
       "       [ 1,  4, -1,  5,  9,  0,  2, 11, 14, 10,  3,  8,  6, 13, 12,  7],\n",
       "       [ 2,  8,  5, -1,  6, 10,  1,  3, 12,  0, 11,  4,  9,  7, 14, 13],\n",
       "       [ 3, 14,  9,  6, -1,  7, 11,  2,  4, 13,  1, 12,  5, 10,  8,  0],\n",
       "       [ 4,  1,  0, 10,  7, -1,  8, 12,  3,  5, 14,  2, 13,  6, 11,  9],\n",
       "       [ 5, 10,  2,  1, 11,  8, -1,  9, 13,  4,  6,  0,  3, 14,  7, 12],\n",
       "       [ 6, 13, 11,  3,  2, 12,  9, -1, 10, 14,  5,  7,  1,  4,  0,  8],\n",
       "       [ 7,  9, 14, 12,  4,  3, 13, 10, -1, 11,  0,  6,  8,  2,  5,  1],\n",
       "       [ 8,  2, 10,  0, 13,  5,  4, 14, 11, -1, 12,  1,  7,  9,  3,  6],\n",
       "       [ 9,  7,  3, 11,  1, 14,  6,  5,  0, 12, -1, 13,  2,  8, 10,  4],\n",
       "       [10,  5,  8,  4, 12,  2,  0,  7,  6,  1, 13, -1, 14,  3,  9, 11],\n",
       "       [11, 12,  6,  9,  5, 13,  3,  1,  8,  7,  2, 14, -1,  0,  4, 10],\n",
       "       [12, 11, 13,  7, 10,  6, 14,  4,  2,  9,  8,  3,  0, -1,  1,  5],\n",
       "       [13,  6, 12, 14,  8, 11,  7,  0,  5,  3, 10,  9,  4,  1, -1,  2],\n",
       "       [14,  3,  7, 13,  0,  9, 12,  8,  1,  6,  4, 11, 10,  5,  2, -1]])"
      ]
     },
     "execution_count": 16,
     "metadata": {},
     "output_type": "execute_result"
    }
   ],
   "source": [
    "add_table"
   ]
  },
  {
   "cell_type": "code",
   "execution_count": null,
   "id": "ec1cab88-d34b-475f-bed5-a7df00b511d2",
   "metadata": {},
   "outputs": [],
   "source": []
  },
  {
   "cell_type": "markdown",
   "id": "96eede17-2eca-4e91-b863-277a3c23ef08",
   "metadata": {},
   "source": [
    "Some test on GF(16) polynomial class objects"
   ]
  },
  {
   "cell_type": "code",
   "execution_count": 17,
   "id": "04f1e6de-e7f2-4ffb-ab99-39945b1956bc",
   "metadata": {},
   "outputs": [],
   "source": [
    "a = Polynomial_gf16([4, -1, 2, 0])\n",
    "b = Polynomial_gf16([11, 3, 0, 9])"
   ]
  },
  {
   "cell_type": "code",
   "execution_count": 18,
   "id": "f37ff4dd-4d8b-462c-9921-f7bd251aab1f",
   "metadata": {},
   "outputs": [
    {
     "data": {
      "text/plain": [
       "[13, 3, 8, 7]"
      ]
     },
     "execution_count": 18,
     "metadata": {},
     "output_type": "execute_result"
    }
   ],
   "source": [
    "[n.po for n in (a + b).coeff]"
   ]
  },
  {
   "cell_type": "code",
   "execution_count": null,
   "id": "f9edff2c-9fc1-4030-89a4-91d02b5bd41f",
   "metadata": {},
   "outputs": [],
   "source": []
  },
  {
   "cell_type": "code",
   "execution_count": null,
   "id": "f2cab837-1922-4a89-b287-6007fab23e15",
   "metadata": {},
   "outputs": [],
   "source": []
  },
  {
   "cell_type": "code",
   "execution_count": 52,
   "id": "f3cb3242-32ee-4180-a669-c9445bad694f",
   "metadata": {},
   "outputs": [],
   "source": [
    "foo = Polynomial_gf16([0, 2, 14, -1, 2, 5])\n",
    "bar = Polynomial_gf16([7, 0])"
   ]
  },
  {
   "cell_type": "code",
   "execution_count": 53,
   "id": "5030c0c9-64e3-423b-8d55-945e112a02b1",
   "metadata": {
    "scrolled": true
   },
   "outputs": [
    {
     "data": {
      "text/plain": [
       "[-1]"
      ]
     },
     "execution_count": 53,
     "metadata": {},
     "output_type": "execute_result"
    }
   ],
   "source": [
    "(foo % bar).to_list()"
   ]
  },
  {
   "cell_type": "code",
   "execution_count": 54,
   "id": "d0b3efa1-f8dc-405a-92c5-051ff1d0c424",
   "metadata": {},
   "outputs": [],
   "source": [
    "ratio = foo // bar"
   ]
  },
  {
   "cell_type": "code",
   "execution_count": 55,
   "id": "bed09c62-a29a-454d-9d72-68d93c901c23",
   "metadata": {},
   "outputs": [
    {
     "data": {
      "text/plain": [
       "True"
      ]
     },
     "execution_count": 55,
     "metadata": {},
     "output_type": "execute_result"
    }
   ],
   "source": [
    "(bar * ratio) == foo"
   ]
  },
  {
   "cell_type": "code",
   "execution_count": null,
   "id": "986d9263-5f83-4a1d-b08f-ae4c277fb276",
   "metadata": {},
   "outputs": [],
   "source": []
  },
  {
   "cell_type": "code",
   "execution_count": 23,
   "id": "0878a431-66a1-4b7f-963a-62b75e0fa634",
   "metadata": {},
   "outputs": [],
   "source": [
    "foo = Polynomial_gf16([9, 3, 2, 2])\n",
    "bar = Polynomial_gf16([7, 0])"
   ]
  },
  {
   "cell_type": "code",
   "execution_count": 24,
   "id": "403845fa-1767-4bc0-b7e0-bc1420a21636",
   "metadata": {},
   "outputs": [],
   "source": [
    "baxa = foo % bar"
   ]
  },
  {
   "cell_type": "code",
   "execution_count": 25,
   "id": "7c511984-d095-4210-946d-280cc043ec06",
   "metadata": {},
   "outputs": [
    {
     "data": {
      "text/plain": [
       "[9]"
      ]
     },
     "execution_count": 25,
     "metadata": {},
     "output_type": "execute_result"
    }
   ],
   "source": [
    "baxa.to_list()"
   ]
  },
  {
   "cell_type": "code",
   "execution_count": 26,
   "id": "a7d9304f-59a2-4c00-8976-bbe4f987f74a",
   "metadata": {},
   "outputs": [],
   "source": [
    "# ratio = Polynomial_gf16([-1, 11, 2])\n",
    "ratio = foo // bar"
   ]
  },
  {
   "cell_type": "code",
   "execution_count": 27,
   "id": "dba3f91c-40c9-43f1-b9de-e629d18b7182",
   "metadata": {},
   "outputs": [
    {
     "data": {
      "text/plain": [
       "True"
      ]
     },
     "execution_count": 27,
     "metadata": {},
     "output_type": "execute_result"
    }
   ],
   "source": [
    "(bar * ratio + baxa) == foo"
   ]
  },
  {
   "cell_type": "code",
   "execution_count": null,
   "id": "8010c8a3-ef0f-4b03-b525-2a9b06ee5621",
   "metadata": {},
   "outputs": [],
   "source": []
  },
  {
   "cell_type": "markdown",
   "id": "d4f0749d-da0f-484b-a40d-410ae9669b81",
   "metadata": {},
   "source": [
    "### Basic Reed-Solomon Encoder\n",
    "(15, 9) RS code\n",
    "\n",
    "Table 3.3.1: \\\n",
    "field generator: $F(x) = x^4 + x + 1$ \\\n",
    "primitive element: $\\alpha = x$ \\"
   ]
  },
  {
   "cell_type": "code",
   "execution_count": 28,
   "id": "2293eabb-5fe3-4148-befc-61b08081335c",
   "metadata": {},
   "outputs": [],
   "source": [
    "n = 15\n",
    "k = 9\n",
    "t = (n - k) // 2"
   ]
  },
  {
   "cell_type": "code",
   "execution_count": 29,
   "id": "509d001b-8fe9-4440-b680-bc4b43b05fc4",
   "metadata": {},
   "outputs": [],
   "source": [
    "# root element alpha\n",
    "# = alpha**1 = the X polynomial in GF(2)\n",
    "alph = Polynomial_gf16([1,])"
   ]
  },
  {
   "cell_type": "code",
   "execution_count": 30,
   "id": "abeb4790-2e67-481f-8480-875130eabc1a",
   "metadata": {},
   "outputs": [],
   "source": [
    "# the X polynomial in GF(16)\n",
    "# the coefficients denote: \n",
    "# a polynomial P(x) = alpha**0 * x + alpha**(-inf)\n",
    "X_gf16 = Polynomial_gf16([-1, 0,])"
   ]
  },
  {
   "cell_type": "code",
   "execution_count": 31,
   "id": "8b71543e-ab06-41c8-8c35-1b073b7cc5da",
   "metadata": {},
   "outputs": [],
   "source": [
    "# generator polynomial\n",
    "gx = Polynomial_gf16([0,]) # mul. identity \"1\"\n",
    "for i in range(2*t):\n",
    "    gx = gx * (X_gf16 + alph ** (i+1))"
   ]
  },
  {
   "cell_type": "markdown",
   "id": "06e09692-e9c4-4f89-8352-796ad7489481",
   "metadata": {},
   "source": [
    "should give `[6, 9, 6, 4, 14, 10, 0]` \\\n",
    "as mentioned in table 3.3-1"
   ]
  },
  {
   "cell_type": "code",
   "execution_count": 32,
   "id": "3c330afd-2ce8-4e9f-831b-f433bc722194",
   "metadata": {},
   "outputs": [
    {
     "data": {
      "text/plain": [
       "[6, 9, 6, 4, 14, 10, 0]"
      ]
     },
     "execution_count": 32,
     "metadata": {},
     "output_type": "execute_result"
    }
   ],
   "source": [
    "gx.to_list()"
   ]
  },
  {
   "cell_type": "markdown",
   "id": "c1e3de94-e62f-425a-a4fb-422b9f57bdde",
   "metadata": {},
   "source": [
    "roots of $g(x)$"
   ]
  },
  {
   "cell_type": "code",
   "execution_count": 33,
   "id": "3bb149ec-8f53-4d93-aea8-02483ead22df",
   "metadata": {},
   "outputs": [],
   "source": [
    "# since g(x) = (x + a)*(x + a^2) ... (x + a^6)\n",
    "# only y7 should be not -1\n",
    "y5 = gx(Gf16_element(5))\n",
    "y6 = gx(Gf16_element(6))\n",
    "y7 = gx(Gf16_element(7))"
   ]
  },
  {
   "cell_type": "code",
   "execution_count": 34,
   "id": "002d73df-e27c-43ad-8cd9-e5a9ccce30be",
   "metadata": {},
   "outputs": [
    {
     "name": "stdout",
     "output_type": "stream",
     "text": [
      "-1\n",
      "-1\n",
      "11\n"
     ]
    }
   ],
   "source": [
    "print(y5.po)\n",
    "print(y6.po)\n",
    "print(y7.po)"
   ]
  },
  {
   "cell_type": "code",
   "execution_count": null,
   "id": "c6c994d9-1e3b-484d-abaa-91006d9aad90",
   "metadata": {},
   "outputs": [],
   "source": []
  },
  {
   "cell_type": "code",
   "execution_count": 35,
   "id": "72da0c22-c248-4235-a5e2-809c8248fa34",
   "metadata": {},
   "outputs": [],
   "source": [
    "import random\n",
    " \n",
    "def generate_binary_string(n):\n",
    "    # Generate a random number with n bits\n",
    "    number = random.getrandbits(n)\n",
    "    # Convert the number to binary\n",
    "    binary_string = format(number, '0b')\n",
    "    return binary_string"
   ]
  },
  {
   "cell_type": "code",
   "execution_count": 36,
   "id": "32b4f150-b54d-481f-bfd5-c52ab2afbdf1",
   "metadata": {},
   "outputs": [
    {
     "data": {
      "text/plain": [
       "'101011100100100001000110010010011001'"
      ]
     },
     "execution_count": 36,
     "metadata": {},
     "output_type": "execute_result"
    }
   ],
   "source": [
    "generate_binary_string(k * 4)"
   ]
  },
  {
   "cell_type": "code",
   "execution_count": null,
   "id": "4f107baf-6e7c-494b-a1f2-31c2ccc6676e",
   "metadata": {},
   "outputs": [],
   "source": []
  },
  {
   "cell_type": "code",
   "execution_count": 37,
   "id": "d7bae149-3594-4ad3-9575-a011b1138c58",
   "metadata": {},
   "outputs": [],
   "source": [
    "message = '110011101101100010011110111010110001'\n",
    "# message = generate_binary_string(k * 4)\n",
    "# print(message)"
   ]
  },
  {
   "cell_type": "code",
   "execution_count": 38,
   "id": "8a35d04e-d443-4a1c-b2da-386c9e631378",
   "metadata": {},
   "outputs": [
    {
     "data": {
      "text/plain": [
       "36"
      ]
     },
     "execution_count": 38,
     "metadata": {},
     "output_type": "execute_result"
    }
   ],
   "source": [
    "len(message)"
   ]
  },
  {
   "cell_type": "code",
   "execution_count": 39,
   "id": "d123d484-9e4d-450a-b92a-372dad1b6a63",
   "metadata": {},
   "outputs": [],
   "source": [
    "# convert a bit string to chunks of m bits\n",
    "# for RS encoding\n",
    "# minus 1 might be needed as we are mapping each\n",
    "# m bit chunk to [-1, 2^m-2] for the GF(2^m) representation\n",
    "def convert_to_chunks(bitstr, size, minus1=True):\n",
    "    l = len(bitstr)\n",
    "    res = []\n",
    "    for i in range(l // size):\n",
    "        c = int(bitstr[i*size:(i+1)*size], 2)\n",
    "        if minus1:\n",
    "            c -= 1\n",
    "        res.append(c)\n",
    "    return res"
   ]
  },
  {
   "cell_type": "code",
   "execution_count": 40,
   "id": "e17892d5-3ff6-4977-b18c-bbc4c1fc60f7",
   "metadata": {},
   "outputs": [],
   "source": [
    "msg_chunks = convert_to_chunks(message, 4)\n",
    "mx = Polynomial_gf16(msg_chunks)"
   ]
  },
  {
   "cell_type": "code",
   "execution_count": 41,
   "id": "69e659d7-83f2-4715-8b67-acf0da3c2da1",
   "metadata": {},
   "outputs": [
    {
     "data": {
      "text/plain": [
       "[11, 13, 12, 7, 8, 13, 13, 10, 0]"
      ]
     },
     "execution_count": 41,
     "metadata": {},
     "output_type": "execute_result"
    }
   ],
   "source": [
    "msg_chunks"
   ]
  },
  {
   "cell_type": "code",
   "execution_count": 42,
   "id": "02d34464-58b4-466a-81f3-1a7dd960be34",
   "metadata": {},
   "outputs": [],
   "source": [
    "def RS_encode(n, k, mx, gx):\n",
    "    mx_2t = mx.pad(n-k)\n",
    "    cx = mx_2t + (mx_2t % gx)\n",
    "    return cx"
   ]
  },
  {
   "cell_type": "code",
   "execution_count": 43,
   "id": "315ae350-52d1-48a3-bffb-2c49a98af7d4",
   "metadata": {},
   "outputs": [],
   "source": [
    "codefn = RS_encode(n, k, mx, gx)"
   ]
  },
  {
   "cell_type": "code",
   "execution_count": 44,
   "id": "4e08fcb8-be27-4d03-9d26-90bb2739ff96",
   "metadata": {},
   "outputs": [
    {
     "data": {
      "text/plain": [
       "[4, 1, 6, 2, 13, 7, 11, 13, 12, 7, 8, 13, 13, 10, 0]"
      ]
     },
     "execution_count": 44,
     "metadata": {},
     "output_type": "execute_result"
    }
   ],
   "source": [
    "# code word as a GF(16) polynomial\n",
    "# you can see thisvariation of RS code is systemic\n",
    "codefn.to_list()"
   ]
  },
  {
   "cell_type": "code",
   "execution_count": 45,
   "id": "5fa7d884-f74b-43d0-8120-9c853a1ccf08",
   "metadata": {},
   "outputs": [],
   "source": [
    "'''\n",
    "convert code function to bitstr\n",
    "in our use case, elements in GF(2^m)\n",
    "are denoted as an integer in [-1, 2^m-2]\n",
    "and the codeword polynomial should be of order\n",
    "2^m - 1, if not, we pad in -1 (which are 0, or the additive identity)\n",
    "'''\n",
    "def codefn_to_bitstr(codefn, m):\n",
    "    lis = codefn.to_list()\n",
    "    if len(lis) < 2**m - 1:\n",
    "        lis = lis + [-1,] * (2**m - 1 - len(lis))\n",
    "    \n",
    "    strs = [format(l+1, '#0' + str(m+2) + 'b')[2:] for l in lis]\n",
    "\n",
    "    return ''.join(strs)"
   ]
  },
  {
   "cell_type": "code",
   "execution_count": 46,
   "id": "972d4036-e4ed-4370-9336-78f318fd8088",
   "metadata": {},
   "outputs": [],
   "source": [
    "codeword = codefn_to_bitstr(codefn, 4)"
   ]
  },
  {
   "cell_type": "code",
   "execution_count": 47,
   "id": "7d649dcb-1e9e-42d1-8856-c45694dcb8ff",
   "metadata": {},
   "outputs": [
    {
     "data": {
      "text/plain": [
       "'010100100111001111101000110011101101100010011110111010110001'"
      ]
     },
     "execution_count": 47,
     "metadata": {},
     "output_type": "execute_result"
    }
   ],
   "source": [
    "codeword"
   ]
  },
  {
   "cell_type": "code",
   "execution_count": 48,
   "id": "a228d97d-f587-47f6-926c-8afce6182be5",
   "metadata": {},
   "outputs": [
    {
     "data": {
      "text/plain": [
       "60"
      ]
     },
     "execution_count": 48,
     "metadata": {},
     "output_type": "execute_result"
    }
   ],
   "source": [
    "len(codeword)"
   ]
  },
  {
   "cell_type": "code",
   "execution_count": 49,
   "id": "1f56cd80-ee3a-4ccb-9192-2d47ea7649d1",
   "metadata": {},
   "outputs": [
    {
     "data": {
      "text/plain": [
       "True"
      ]
     },
     "execution_count": 49,
     "metadata": {},
     "output_type": "execute_result"
    }
   ],
   "source": [
    "# a systemic code\n",
    "# the the last 36 bits of this should be the same\n",
    "codeword[24:] == message"
   ]
  },
  {
   "cell_type": "code",
   "execution_count": null,
   "id": "2498b887-d4d0-4bd2-b71c-7e15f7959bff",
   "metadata": {},
   "outputs": [],
   "source": []
  },
  {
   "cell_type": "code",
   "execution_count": 50,
   "id": "86b99e39-7cae-43eb-aa19-716c1c54699e",
   "metadata": {},
   "outputs": [],
   "source": [
    "codefn_2 = Polynomial_gf16(convert_to_chunks(codeword, 4))"
   ]
  },
  {
   "cell_type": "code",
   "execution_count": 51,
   "id": "d230f549-f946-4800-b626-6969c05e8328",
   "metadata": {},
   "outputs": [
    {
     "data": {
      "text/plain": [
       "[4, 1, 6, 2, 13, 7, 11, 13, 12, 7, 8, 13, 13, 10, 0]"
      ]
     },
     "execution_count": 51,
     "metadata": {},
     "output_type": "execute_result"
    }
   ],
   "source": [
    "codefn_2.to_list()"
   ]
  },
  {
   "cell_type": "code",
   "execution_count": null,
   "id": "a384f83d-f762-4829-9594-13bb18970226",
   "metadata": {},
   "outputs": [],
   "source": []
  },
  {
   "cell_type": "code",
   "execution_count": null,
   "id": "7b03405f-e4fa-4e35-af6d-1b335f8f0b26",
   "metadata": {},
   "outputs": [],
   "source": [
    "'''\n",
    "Extended Euclidean Algorithm\n",
    "for use in Reed Solomon decoding\n",
    "'''\n",
    "def ext_euclidean_algo(a, b):\n",
    "    "
   ]
  }
 ],
 "metadata": {
  "kernelspec": {
   "display_name": "Python 3 (ipykernel)",
   "language": "python",
   "name": "python3"
  },
  "language_info": {
   "codemirror_mode": {
    "name": "ipython",
    "version": 3
   },
   "file_extension": ".py",
   "mimetype": "text/x-python",
   "name": "python",
   "nbconvert_exporter": "python",
   "pygments_lexer": "ipython3",
   "version": "3.10.11"
  }
 },
 "nbformat": 4,
 "nbformat_minor": 5
}
