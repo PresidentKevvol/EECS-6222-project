{
 "cells": [
  {
   "cell_type": "code",
   "execution_count": 1,
   "id": "a23362d5-0382-421d-a0b5-a2b88e0eba1b",
   "metadata": {},
   "outputs": [],
   "source": [
    "import math\n",
    "import random\n",
    "\n",
    "import numpy as np\n",
    "\n",
    "from polynomial import *\n",
    "from GF_Polynomials import *\n",
    "from Reed_Solomon import *"
   ]
  },
  {
   "cell_type": "code",
   "execution_count": 2,
   "id": "1997843e-148c-424a-9c86-01df0bba1ada",
   "metadata": {},
   "outputs": [],
   "source": [
    "h = Polynomial_GF2m([1, 11, -1, 6, 0], 4)"
   ]
  },
  {
   "cell_type": "code",
   "execution_count": 15,
   "id": "93160abb-7371-4663-9711-a5606084d37b",
   "metadata": {},
   "outputs": [],
   "source": [
    "x = Element_GF2m(7, 4)"
   ]
  },
  {
   "cell_type": "code",
   "execution_count": 16,
   "id": "ee7e6187-bf87-4e17-b5cb-bd6aa238198c",
   "metadata": {},
   "outputs": [
    {
     "data": {
      "text/plain": [
       "13"
      ]
     },
     "execution_count": 16,
     "metadata": {},
     "output_type": "execute_result"
    }
   ],
   "source": [
    "(x ** 4).po"
   ]
  },
  {
   "cell_type": "code",
   "execution_count": 17,
   "id": "593ca40d-f5f3-4c40-bae8-37b49aef9d36",
   "metadata": {},
   "outputs": [
    {
     "data": {
      "text/plain": [
       "6"
      ]
     },
     "execution_count": 17,
     "metadata": {},
     "output_type": "execute_result"
    }
   ],
   "source": [
    "(x ** 3).po"
   ]
  },
  {
   "cell_type": "code",
   "execution_count": 18,
   "id": "ff47bf1d-9ddb-4d47-a4bd-2d2fddce3225",
   "metadata": {},
   "outputs": [
    {
     "data": {
      "text/plain": [
       "12"
      ]
     },
     "execution_count": 18,
     "metadata": {},
     "output_type": "execute_result"
    }
   ],
   "source": [
    "(Element_GF2m(6, 4) * (x ** 3)).po"
   ]
  },
  {
   "cell_type": "code",
   "execution_count": 19,
   "id": "47e0a77e-df3a-40d3-b329-83d396bf0f52",
   "metadata": {},
   "outputs": [
    {
     "data": {
      "text/plain": [
       "3"
      ]
     },
     "execution_count": 19,
     "metadata": {},
     "output_type": "execute_result"
    }
   ],
   "source": [
    "(Element_GF2m(11, 4) * (x)).po"
   ]
  },
  {
   "cell_type": "code",
   "execution_count": 20,
   "id": "3b5c77ed-e98f-45e3-804f-205735fd1f91",
   "metadata": {},
   "outputs": [],
   "source": [
    "hx = (x ** 4) + (Element_GF2m(6, 4) * (x ** 3)) + (Element_GF2m(11, 4) * (x)) + Element_GF2m(1, 4)"
   ]
  },
  {
   "cell_type": "code",
   "execution_count": 21,
   "id": "98ed52be-f154-4d9f-8eb4-bcb062318065",
   "metadata": {},
   "outputs": [
    {
     "data": {
      "text/plain": [
       "3"
      ]
     },
     "execution_count": 21,
     "metadata": {},
     "output_type": "execute_result"
    }
   ],
   "source": [
    "hx.po"
   ]
  },
  {
   "cell_type": "code",
   "execution_count": 22,
   "id": "f867df87-cc24-47aa-8952-c94cd17a5a56",
   "metadata": {},
   "outputs": [
    {
     "data": {
      "text/plain": [
       "3"
      ]
     },
     "execution_count": 22,
     "metadata": {},
     "output_type": "execute_result"
    }
   ],
   "source": [
    "h(x).po"
   ]
  },
  {
   "cell_type": "code",
   "execution_count": 24,
   "id": "b0cb68ca-a922-4864-bb6d-b4d029ea1764",
   "metadata": {},
   "outputs": [
    {
     "data": {
      "text/plain": [
       "5"
      ]
     },
     "execution_count": 24,
     "metadata": {},
     "output_type": "execute_result"
    }
   ],
   "source": [
    "(Element_GF2m(6, 4) - Element_GF2m(9, 4)).po"
   ]
  },
  {
   "cell_type": "code",
   "execution_count": 25,
   "id": "ff53d927-bc3a-44f9-98e4-a5ccb7e1183b",
   "metadata": {},
   "outputs": [
    {
     "data": {
      "text/plain": [
       "7"
      ]
     },
     "execution_count": 25,
     "metadata": {},
     "output_type": "execute_result"
    }
   ],
   "source": [
    "(Element_GF2m(-1, 4) - Element_GF2m(7, 4)).po"
   ]
  },
  {
   "cell_type": "code",
   "execution_count": 27,
   "id": "80d40eed-ddfe-4047-a499-9f198e8a9cf2",
   "metadata": {},
   "outputs": [],
   "source": [
    "m = Polynomial_GF2m([7, 9, 0], 4)"
   ]
  },
  {
   "cell_type": "code",
   "execution_count": 28,
   "id": "161c6637-afed-4689-ae0b-4068cb8b2dce",
   "metadata": {},
   "outputs": [],
   "source": [
    "h1 = h - m.pad(2)"
   ]
  },
  {
   "cell_type": "code",
   "execution_count": 29,
   "id": "fc273331-93c9-4da7-b246-8d8db07fb0ed",
   "metadata": {},
   "outputs": [
    {
     "data": {
      "text/plain": [
       "[1, 11, 7, 5]"
      ]
     },
     "execution_count": 29,
     "metadata": {},
     "output_type": "execute_result"
    }
   ],
   "source": [
    "h1.to_list()"
   ]
  },
  {
   "cell_type": "code",
   "execution_count": null,
   "id": "50bc6d12-e546-46e3-bdd0-a8f52f70a31b",
   "metadata": {},
   "outputs": [],
   "source": []
  },
  {
   "cell_type": "code",
   "execution_count": 30,
   "id": "b1efee75-7f55-497e-8b17-70637b3b4ab4",
   "metadata": {},
   "outputs": [],
   "source": [
    "h2 = h1 - (m.pad(1) * Element_GF2m(5, 4))"
   ]
  },
  {
   "cell_type": "code",
   "execution_count": 32,
   "id": "7581dad4-f9f3-4628-be0a-c396a018b0ef",
   "metadata": {},
   "outputs": [
    {
     "data": {
      "text/plain": [
       "[-1, 12, 14, 5]"
      ]
     },
     "execution_count": 32,
     "metadata": {},
     "output_type": "execute_result"
    }
   ],
   "source": [
    "(m.pad(1) * Element_GF2m(5, 4)).to_list()"
   ]
  },
  {
   "cell_type": "code",
   "execution_count": 31,
   "id": "52a0cd41-93a0-4c1c-aa3b-67853a0ce997",
   "metadata": {},
   "outputs": [
    {
     "data": {
      "text/plain": [
       "[1, 0, 1]"
      ]
     },
     "execution_count": 31,
     "metadata": {},
     "output_type": "execute_result"
    }
   ],
   "source": [
    "h2.to_list()"
   ]
  },
  {
   "cell_type": "code",
   "execution_count": 35,
   "id": "c80abeb3-66c1-46b8-a088-6d58a28132b2",
   "metadata": {},
   "outputs": [],
   "source": [
    "h3 = h2 - m * Element_GF2m(1, 4)"
   ]
  },
  {
   "cell_type": "code",
   "execution_count": 37,
   "id": "677ec1dd-a2af-475b-b9f4-710a81dc00b9",
   "metadata": {},
   "outputs": [
    {
     "data": {
      "text/plain": [
       "[8, 10, 1]"
      ]
     },
     "execution_count": 37,
     "metadata": {},
     "output_type": "execute_result"
    }
   ],
   "source": [
    "(m * Element_GF2m(1, 4)).to_list()"
   ]
  },
  {
   "cell_type": "code",
   "execution_count": 36,
   "id": "bb499f01-55e3-4f96-a8bd-d9dc33e277ad",
   "metadata": {},
   "outputs": [
    {
     "data": {
      "text/plain": [
       "[10, 5]"
      ]
     },
     "execution_count": 36,
     "metadata": {},
     "output_type": "execute_result"
    }
   ],
   "source": [
    "h3.to_list()"
   ]
  },
  {
   "cell_type": "code",
   "execution_count": null,
   "id": "e5298ceb-80f5-48f1-9f18-3608caa7bb5a",
   "metadata": {},
   "outputs": [],
   "source": []
  },
  {
   "cell_type": "code",
   "execution_count": 39,
   "id": "22181e0b-5021-4068-8a4e-8ab9e462c23b",
   "metadata": {},
   "outputs": [
    {
     "data": {
      "text/plain": [
       "[1, 5, 0]"
      ]
     },
     "execution_count": 39,
     "metadata": {},
     "output_type": "execute_result"
    }
   ],
   "source": [
    "(h // m).to_list()"
   ]
  },
  {
   "cell_type": "code",
   "execution_count": 40,
   "id": "548033be-0de3-4d44-9278-a8585a153cf0",
   "metadata": {},
   "outputs": [
    {
     "data": {
      "text/plain": [
       "[10, 5]"
      ]
     },
     "execution_count": 40,
     "metadata": {},
     "output_type": "execute_result"
    }
   ],
   "source": [
    "(h % m).to_list()"
   ]
  },
  {
   "cell_type": "code",
   "execution_count": null,
   "id": "ec593ff9-eef6-4242-8190-3ecd112a236f",
   "metadata": {},
   "outputs": [],
   "source": []
  }
 ],
 "metadata": {
  "kernelspec": {
   "display_name": "Python 3 (ipykernel)",
   "language": "python",
   "name": "python3"
  },
  "language_info": {
   "codemirror_mode": {
    "name": "ipython",
    "version": 3
   },
   "file_extension": ".py",
   "mimetype": "text/x-python",
   "name": "python",
   "nbconvert_exporter": "python",
   "pygments_lexer": "ipython3",
   "version": "3.10.11"
  }
 },
 "nbformat": 4,
 "nbformat_minor": 5
}
