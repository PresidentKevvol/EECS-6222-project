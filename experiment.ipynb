{
 "cells": [
  {
   "cell_type": "code",
   "execution_count": 1,
   "id": "bb555dc4-2384-4e54-acee-3315d1f9f208",
   "metadata": {},
   "outputs": [],
   "source": [
    "import math\n",
    "import random\n",
    "\n",
    "import numpy as np\n",
    "from tqdm import tqdm\n",
    "\n",
    "from utils import *\n",
    "from Reed_Solomon import *\n",
    "from Convolutional import *"
   ]
  },
  {
   "cell_type": "markdown",
   "id": "fd24f4cf-2409-46cc-8cc5-7c99043d7ee6",
   "metadata": {},
   "source": [
    "### Encoder/Decoders"
   ]
  },
  {
   "cell_type": "markdown",
   "id": "45d17e3c-de10-4f66-9267-05f94841bcaf",
   "metadata": {},
   "source": [
    "Create Reed-Solomon Encoder"
   ]
  },
  {
   "cell_type": "code",
   "execution_count": 2,
   "id": "b4592b1e-87d5-41f8-8d81-72e23329ca60",
   "metadata": {},
   "outputs": [],
   "source": [
    "m = 8\n",
    "t = 16\n",
    "# default mode is np array\n",
    "RS_255_223 = ReedSolomon(m, t)"
   ]
  },
  {
   "cell_type": "code",
   "execution_count": 3,
   "id": "1b743aca-bfae-4ada-bef8-bfb5e4a4acef",
   "metadata": {},
   "outputs": [
    {
     "data": {
      "text/plain": [
       "(255, 223)"
      ]
     },
     "execution_count": 3,
     "metadata": {},
     "output_type": "execute_result"
    }
   ],
   "source": [
    "n = RS_255_223.n\n",
    "k = RS_255_223.k\n",
    "\n",
    "n, k"
   ]
  },
  {
   "cell_type": "markdown",
   "id": "081355e4-db17-4c75-b3b9-3a539cc0de2d",
   "metadata": {},
   "source": [
    "Create Convolutional Encoder"
   ]
  },
  {
   "cell_type": "code",
   "execution_count": 5,
   "id": "2cc10a87-8aef-4079-96f1-a1a877083c7a",
   "metadata": {},
   "outputs": [],
   "source": [
    "kern_7_2 = np.array([binary_str_to_array('10101011'), binary_str_to_array('10000101')])\n",
    "conv = ConvCode(kern_7_2)"
   ]
  },
  {
   "cell_type": "markdown",
   "id": "56977b7f-407f-4d52-a78e-e0d1c7a0f8db",
   "metadata": {},
   "source": [
    "### Utility functions\n",
    "the error is modelled by BSC\n",
    "the coding scheme is created as concatenation between (255, 223) R-S code and (7, 1/2) convolution code"
   ]
  },
  {
   "cell_type": "code",
   "execution_count": 6,
   "id": "ffdd16b7-f443-46dc-a7d6-c137d20d50a7",
   "metadata": {},
   "outputs": [],
   "source": [
    "def simulate_error(ay, p):\n",
    "    l = ay.shape[0]\n",
    "    errs = np.random.binomial(1, p, (l,))\n",
    "    return (ay + errs) % 2"
   ]
  },
  {
   "cell_type": "code",
   "execution_count": 7,
   "id": "b0a86d07-8a1e-4eaf-94a4-f38ff33e4856",
   "metadata": {},
   "outputs": [],
   "source": [
    "def voyager_encode(msg):\n",
    "    return conv.encode(RS_255_223.encode(msg))\n",
    "\n",
    "def voyager_decode(code):\n",
    "    err_corrected, recovered = RS_255_223.decode(conv.decode(code))\n",
    "    return recovered"
   ]
  },
  {
   "cell_type": "markdown",
   "id": "44df5557-5548-43f9-a653-414bc42a79fa",
   "metadata": {},
   "source": [
    "### Initial Trial\n",
    "Try encoding and decoding using both coding systems"
   ]
  },
  {
   "cell_type": "code",
   "execution_count": 8,
   "id": "b1db3551-31f6-4aae-ae8a-b08355f2cc2c",
   "metadata": {},
   "outputs": [],
   "source": [
    "message_length = m * k"
   ]
  },
  {
   "cell_type": "code",
   "execution_count": 17,
   "id": "74228194-e48a-4935-9515-b2ff9b638188",
   "metadata": {},
   "outputs": [],
   "source": [
    "msg = generate_binary_array(message_length)"
   ]
  },
  {
   "cell_type": "code",
   "execution_count": 18,
   "id": "8cd76d87-79e4-48ad-af60-dbc280ed2fe0",
   "metadata": {},
   "outputs": [],
   "source": [
    "encoded = voyager_encode(msg)"
   ]
  },
  {
   "cell_type": "code",
   "execution_count": 19,
   "id": "7ae63231-1951-47dc-864b-1cb33d32cf72",
   "metadata": {},
   "outputs": [],
   "source": [
    "received = simulate_error(encoded, 0.005)"
   ]
  },
  {
   "cell_type": "code",
   "execution_count": 20,
   "id": "3a0e81cc-37a1-453e-89fa-8e72a2f1b4b1",
   "metadata": {},
   "outputs": [
    {
     "data": {
      "text/plain": [
       "23"
      ]
     },
     "execution_count": 20,
     "metadata": {},
     "output_type": "execute_result"
    }
   ],
   "source": [
    "# the hamming distance, how many errors are there?\n",
    "hamming_dist(encoded, received)"
   ]
  },
  {
   "cell_type": "code",
   "execution_count": 21,
   "id": "9f0be7f5-baa0-49ae-b662-eaba93a4c12a",
   "metadata": {},
   "outputs": [],
   "source": [
    "recovered = voyager_decode(received)"
   ]
  },
  {
   "cell_type": "code",
   "execution_count": 22,
   "id": "a1d1c189-fc34-4acf-bbf5-8fc028d38214",
   "metadata": {},
   "outputs": [
    {
     "data": {
      "text/plain": [
       "1784"
      ]
     },
     "execution_count": 22,
     "metadata": {},
     "output_type": "execute_result"
    }
   ],
   "source": [
    "np.sum(recovered == msg)"
   ]
  },
  {
   "cell_type": "code",
   "execution_count": 25,
   "id": "a85caa04-b293-4232-9324-3aa2f7b3293f",
   "metadata": {},
   "outputs": [
    {
     "data": {
      "text/plain": [
       "True"
      ]
     },
     "execution_count": 25,
     "metadata": {},
     "output_type": "execute_result"
    }
   ],
   "source": [
    "np.all(recovered == msg)"
   ]
  },
  {
   "cell_type": "code",
   "execution_count": null,
   "id": "54ee07ed-12c4-499d-b6c0-db63b6d49cc0",
   "metadata": {},
   "outputs": [],
   "source": []
  },
  {
   "cell_type": "markdown",
   "id": "296b1ccf-3daa-4611-83fb-1df0f15d8920",
   "metadata": {},
   "source": [
    "### Actual experiment"
   ]
  },
  {
   "cell_type": "code",
   "execution_count": 67,
   "id": "b46a70df-71b1-4dbc-ab49-b7fe9f4949c2",
   "metadata": {},
   "outputs": [],
   "source": [
    "# number of trials\n",
    "num_trials = 100\n",
    "\n",
    "# min and max channel error\n",
    "min_p = 0.10\n",
    "max_p = 0.15\n",
    "\n",
    "# number of intervals\n",
    "num_interval = 20\n",
    "\n",
    "p_values = np.linspace(min_p, max_p, num_interval+1)"
   ]
  },
  {
   "cell_type": "code",
   "execution_count": 68,
   "id": "dbdd9ab6-933d-4c96-87ec-4cd0e1292e8d",
   "metadata": {},
   "outputs": [
    {
     "data": {
      "text/plain": [
       "array([0.1   , 0.1025, 0.105 , 0.1075, 0.11  , 0.1125, 0.115 , 0.1175,\n",
       "       0.12  , 0.1225, 0.125 , 0.1275, 0.13  , 0.1325, 0.135 , 0.1375,\n",
       "       0.14  , 0.1425, 0.145 , 0.1475, 0.15  ])"
      ]
     },
     "execution_count": 68,
     "metadata": {},
     "output_type": "execute_result"
    }
   ],
   "source": [
    "p_values"
   ]
  },
  {
   "cell_type": "code",
   "execution_count": 72,
   "id": "6342b3ee-009b-4ea9-b329-10182f347c9f",
   "metadata": {},
   "outputs": [],
   "source": [
    "num_errors_list_list = []\n",
    "num_failure_list = []"
   ]
  },
  {
   "cell_type": "code",
   "execution_count": 73,
   "id": "955cddb0-07aa-4f71-8db7-02a89e5a888c",
   "metadata": {},
   "outputs": [
    {
     "name": "stderr",
     "output_type": "stream",
     "text": [
      "100%|████████████████████████████████████████████████████████████████████████████| 20/20 [1:32:05<00:00, 276.30s/it]\n"
     ]
    }
   ],
   "source": [
    "for p in tqdm(p_values[1:]):\n",
    "    num_errors_list = []\n",
    "    num_failure = 0\n",
    "    \n",
    "    # generate num_trials random strings and encode and decode them\n",
    "    for _ in range(num_trials):\n",
    "        try:\n",
    "            # generate random message\n",
    "            msg = generate_binary_array(message_length)\n",
    "            # encode, simulate error, decode\n",
    "            encoded = voyager_encode(msg)\n",
    "            received = simulate_error(encoded, p)\n",
    "            recovered = voyager_decode(received)\n",
    "\n",
    "            num_errors = np.sum(recovered != msg)\n",
    "            num_errors_list.append(num_errors)\n",
    "        except:\n",
    "            # if an exception is thrown, meaning the decode completely failed\n",
    "            # e.g. lambd.formal_derivative()(e) == alpha^(-inf) i.e. additive identity in GF(2^m)\n",
    "            num_errors_list.append(message_length)\n",
    "            num_failure += 1\n",
    "\n",
    "    num_errors_list_list.append(num_errors_list)\n",
    "    num_failure_list.append(num_failure)"
   ]
  },
  {
   "cell_type": "code",
   "execution_count": 74,
   "id": "4c9a7777-801a-4a11-ad69-0ae29844199a",
   "metadata": {},
   "outputs": [],
   "source": [
    "sim_result = np.array(num_errors_list_list)"
   ]
  },
  {
   "cell_type": "code",
   "execution_count": 75,
   "id": "adec4374-7f97-444e-8689-97d18e3255f0",
   "metadata": {},
   "outputs": [],
   "source": [
    "np.save('sim_result_03.npy', sim_result)"
   ]
  },
  {
   "cell_type": "code",
   "execution_count": null,
   "id": "2ef7d507-36c0-4791-9dd1-a79ea8c60775",
   "metadata": {},
   "outputs": [],
   "source": []
  },
  {
   "cell_type": "code",
   "execution_count": 76,
   "id": "59925262-b1c2-4362-a367-2dd1c5faf593",
   "metadata": {},
   "outputs": [
    {
     "name": "stdout",
     "output_type": "stream",
     "text": [
      "[1, 0, 0, 0, 0, 3, 0, 1, 1, 3, 1, 0, 0, 0, 2, 3, 2, 2, 1, 0]\n"
     ]
    }
   ],
   "source": [
    "print(num_failure_list)"
   ]
  },
  {
   "cell_type": "code",
   "execution_count": 77,
   "id": "b695052f-b204-4791-957d-816848d0d711",
   "metadata": {},
   "outputs": [],
   "source": [
    "np.save('sim_result_failure_03.npy', num_failure_list)"
   ]
  },
  {
   "cell_type": "code",
   "execution_count": null,
   "id": "1e602582-5f2f-43ff-b66e-d585f6adf2cc",
   "metadata": {},
   "outputs": [],
   "source": []
  },
  {
   "cell_type": "code",
   "execution_count": null,
   "id": "2f2485d0-197d-486d-b393-906dee804192",
   "metadata": {},
   "outputs": [],
   "source": []
  },
  {
   "cell_type": "code",
   "execution_count": 54,
   "id": "288f424d-f365-4962-8802-bc0d19adc0ba",
   "metadata": {},
   "outputs": [
    {
     "data": {
      "text/plain": [
       "37.25"
      ]
     },
     "execution_count": 54,
     "metadata": {},
     "output_type": "execute_result"
    }
   ],
   "source": [
    "hamming_dist(encoded, received) / 8"
   ]
  },
  {
   "cell_type": "code",
   "execution_count": 56,
   "id": "ff51be74-d640-46af-b6e7-5a155a08d260",
   "metadata": {},
   "outputs": [],
   "source": [
    "a = RS_255_223.encode(msg)\n",
    "b = conv.decode(received)"
   ]
  },
  {
   "cell_type": "code",
   "execution_count": 61,
   "id": "44949289-2f99-4410-bcd3-6caefe3f6418",
   "metadata": {},
   "outputs": [
    {
     "data": {
      "text/plain": [
       "23"
      ]
     },
     "execution_count": 61,
     "metadata": {},
     "output_type": "execute_result"
    }
   ],
   "source": [
    "np.sum(convert_to_chunks(a, 8) != convert_to_chunks(b, 8))"
   ]
  },
  {
   "cell_type": "code",
   "execution_count": 46,
   "id": "375c7f9c-e491-4a43-8cd7-274a0fc8b773",
   "metadata": {
    "scrolled": true
   },
   "outputs": [
    {
     "data": {
      "text/plain": [
       "28"
      ]
     },
     "execution_count": 46,
     "metadata": {},
     "output_type": "execute_result"
    }
   ],
   "source": [
    "len(num_errors_list_list)"
   ]
  },
  {
   "cell_type": "code",
   "execution_count": null,
   "id": "274b4088-94f5-4a82-82df-cc48558b6b97",
   "metadata": {},
   "outputs": [],
   "source": []
  },
  {
   "cell_type": "code",
   "execution_count": null,
   "id": "141e2410-f76b-4ca6-b228-90521ada1ebe",
   "metadata": {},
   "outputs": [],
   "source": []
  },
  {
   "cell_type": "code",
   "execution_count": null,
   "id": "eb45522d-d10b-4080-b4f4-a577a70f91f7",
   "metadata": {},
   "outputs": [],
   "source": []
  },
  {
   "cell_type": "code",
   "execution_count": null,
   "id": "0e7c7b21-8d75-4c26-b3cc-5002198af41e",
   "metadata": {},
   "outputs": [],
   "source": []
  }
 ],
 "metadata": {
  "kernelspec": {
   "display_name": "Python 3 (ipykernel)",
   "language": "python",
   "name": "python3"
  },
  "language_info": {
   "codemirror_mode": {
    "name": "ipython",
    "version": 3
   },
   "file_extension": ".py",
   "mimetype": "text/x-python",
   "name": "python",
   "nbconvert_exporter": "python",
   "pygments_lexer": "ipython3",
   "version": "3.10.11"
  }
 },
 "nbformat": 4,
 "nbformat_minor": 5
}
