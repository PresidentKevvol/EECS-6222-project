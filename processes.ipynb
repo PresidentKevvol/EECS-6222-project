{
 "cells": [
  {
   "cell_type": "code",
   "execution_count": 2,
   "id": "031d348a-d5a9-4262-aa2b-f709b70cc50f",
   "metadata": {},
   "outputs": [
    {
     "data": {
      "text/plain": [
       "6"
      ]
     },
     "execution_count": 2,
     "metadata": {},
     "output_type": "execute_result"
    }
   ],
   "source": [
    "import threading\n",
    "threading.active_count()"
   ]
  },
  {
   "cell_type": "code",
   "execution_count": 10,
   "id": "37c495c1-2004-4c90-929b-1c67c20bb8d1",
   "metadata": {},
   "outputs": [],
   "source": [
    "import multiprocessing\n",
    "import time"
   ]
  },
  {
   "cell_type": "code",
   "execution_count": 19,
   "id": "30fc255e-3e54-44fc-a557-a686fe7a3ffd",
   "metadata": {},
   "outputs": [],
   "source": [
    "def worker(i, res_dict):\n",
    "    \"\"\"worker function\"\"\"\n",
    "    print('Worker')\n",
    "    time.sleep(2)\n",
    "    res_dict[i] = i + 3\n",
    "    return "
   ]
  },
  {
   "cell_type": "code",
   "execution_count": 20,
   "id": "fd2f4cda-d017-456c-9a92-2158f4718d3a",
   "metadata": {},
   "outputs": [
    {
     "name": "stdout",
     "output_type": "stream",
     "text": [
      "0 joined\n",
      "1 joined\n",
      "2 joined\n",
      "3 joined\n",
      "4 joined\n"
     ]
    }
   ],
   "source": [
    "jobs = []\n",
    "manager = multiprocessing.Manager()\n",
    "return_dict = manager.dict()\n",
    "\n",
    "for i in range(5):\n",
    "    p = multiprocessing.Process(target=worker, args=(i, return_dict))\n",
    "    p.start()\n",
    "    jobs.append(p)\n",
    "\n",
    "for i in range(5):\n",
    "    jobs[i].join()\n",
    "    print(i, 'joined')"
   ]
  },
  {
   "cell_type": "code",
   "execution_count": 21,
   "id": "d60e7b25-22ab-4cde-8fca-978a30068353",
   "metadata": {},
   "outputs": [
    {
     "data": {
      "text/plain": [
       "[]"
      ]
     },
     "execution_count": 21,
     "metadata": {},
     "output_type": "execute_result"
    }
   ],
   "source": [
    "return_dict.values()"
   ]
  },
  {
   "cell_type": "code",
   "execution_count": 22,
   "id": "8aea2452-4cc3-4b90-8444-26a839c7a471",
   "metadata": {},
   "outputs": [
    {
     "data": {
      "text/plain": [
       "list"
      ]
     },
     "execution_count": 22,
     "metadata": {},
     "output_type": "execute_result"
    }
   ],
   "source": [
    "type(return_dict.values())"
   ]
  },
  {
   "cell_type": "code",
   "execution_count": null,
   "id": "b79b5316-281d-41ef-ac75-bcab6178af4c",
   "metadata": {},
   "outputs": [],
   "source": []
  }
 ],
 "metadata": {
  "kernelspec": {
   "display_name": "Python 3 (ipykernel)",
   "language": "python",
   "name": "python3"
  },
  "language_info": {
   "codemirror_mode": {
    "name": "ipython",
    "version": 3
   },
   "file_extension": ".py",
   "mimetype": "text/x-python",
   "name": "python",
   "nbconvert_exporter": "python",
   "pygments_lexer": "ipython3",
   "version": "3.10.11"
  }
 },
 "nbformat": 4,
 "nbformat_minor": 5
}
