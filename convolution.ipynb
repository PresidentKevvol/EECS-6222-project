{
 "cells": [
  {
   "cell_type": "code",
   "execution_count": 1,
   "id": "03a3ee63-ffa4-4965-b557-417c4f7957e9",
   "metadata": {},
   "outputs": [],
   "source": [
    "import numpy as np\n",
    "import math\n",
    "import random\n",
    "\n",
    "from utils import *\n",
    "from Convolutional import *"
   ]
  },
  {
   "cell_type": "code",
   "execution_count": 2,
   "id": "a17fd272-d173-4219-8c22-f5e1ec4befb1",
   "metadata": {},
   "outputs": [],
   "source": [
    "data_01 = [1, 0, 1, 1, 1, 0, 0]\n",
    "kern_3_2 = [[1, 1, 1], [1, 1, 0]]"
   ]
  },
  {
   "cell_type": "code",
   "execution_count": 3,
   "id": "8bfcc294-7989-4bf5-be70-0a8f7e973cc3",
   "metadata": {},
   "outputs": [],
   "source": [
    "outp_01 = convolutional_encode(data_01, kern_3_2)"
   ]
  },
  {
   "cell_type": "code",
   "execution_count": 4,
   "id": "83bbf012-53a7-4c11-9f2f-3b5872613a8a",
   "metadata": {},
   "outputs": [
    {
     "data": {
      "text/plain": [
       "[1, 0, 1, 1, 0, 1, 0, 1, 1, 0, 0, 0, 1, 1]"
      ]
     },
     "execution_count": 4,
     "metadata": {},
     "output_type": "execute_result"
    }
   ],
   "source": [
    "outp_01"
   ]
  },
  {
   "cell_type": "code",
   "execution_count": 5,
   "id": "ec3f2bc2-a144-4b4c-ba86-6f8c3ae8ace3",
   "metadata": {},
   "outputs": [
    {
     "data": {
      "text/plain": [
       "14"
      ]
     },
     "execution_count": 5,
     "metadata": {},
     "output_type": "execute_result"
    }
   ],
   "source": [
    "len(outp_01)"
   ]
  },
  {
   "cell_type": "code",
   "execution_count": 6,
   "id": "e7ad6a0d-d531-4ed3-a8bf-a9e898bac229",
   "metadata": {},
   "outputs": [
    {
     "data": {
      "text/plain": [
       "7"
      ]
     },
     "execution_count": 6,
     "metadata": {},
     "output_type": "execute_result"
    }
   ],
   "source": [
    "len(data_01)"
   ]
  },
  {
   "cell_type": "code",
   "execution_count": 7,
   "id": "746ab96c-4def-4e3d-be0d-26100d7123d1",
   "metadata": {},
   "outputs": [],
   "source": [
    "data_01 = np.array(data_01)\n",
    "kern_3_2 = np.array(kern_3_2)"
   ]
  },
  {
   "cell_type": "code",
   "execution_count": 8,
   "id": "95fed6fb-bb00-4850-b373-2213b4563f16",
   "metadata": {},
   "outputs": [],
   "source": [
    "outp_02 = convolutional_encode_np(data_01, kern_3_2)"
   ]
  },
  {
   "cell_type": "code",
   "execution_count": 9,
   "id": "3e0c9a94-660b-422c-aa07-42b076b48c7f",
   "metadata": {},
   "outputs": [
    {
     "data": {
      "text/plain": [
       "array([1, 0, 1, 1, 0, 1, 0, 1, 1, 0, 0, 0, 1, 1])"
      ]
     },
     "execution_count": 9,
     "metadata": {},
     "output_type": "execute_result"
    }
   ],
   "source": [
    "outp_02"
   ]
  },
  {
   "cell_type": "code",
   "execution_count": 10,
   "id": "b8c22abd-b602-45ce-b644-87138be4eacf",
   "metadata": {},
   "outputs": [
    {
     "data": {
      "text/plain": [
       "dtype('int32')"
      ]
     },
     "execution_count": 10,
     "metadata": {},
     "output_type": "execute_result"
    }
   ],
   "source": [
    "outp_02.dtype"
   ]
  },
  {
   "cell_type": "code",
   "execution_count": 11,
   "id": "f7f0ec5a-895c-4482-ba37-c37caef2bf23",
   "metadata": {},
   "outputs": [
    {
     "data": {
      "text/plain": [
       "True"
      ]
     },
     "execution_count": 11,
     "metadata": {},
     "output_type": "execute_result"
    }
   ],
   "source": [
    "outp_02.dtype == int"
   ]
  },
  {
   "cell_type": "code",
   "execution_count": null,
   "id": "0044ad88-fc2a-4a78-a780-ab8dd60f37f7",
   "metadata": {},
   "outputs": [],
   "source": []
  },
  {
   "cell_type": "code",
   "execution_count": null,
   "id": "32752228-581d-4d04-bacc-75368602e80b",
   "metadata": {},
   "outputs": [],
   "source": []
  },
  {
   "cell_type": "code",
   "execution_count": 12,
   "id": "8f5b5ff3-5b0e-4606-8edc-df53889aaafd",
   "metadata": {},
   "outputs": [],
   "source": [
    "vtr_3_2 = viterbi_transition_graph(kern_3_2)"
   ]
  },
  {
   "cell_type": "code",
   "execution_count": 13,
   "id": "f3219cf2-5f21-4dfd-bc74-65f9b8f18424",
   "metadata": {},
   "outputs": [
    {
     "data": {
      "text/plain": [
       "{0: {0: array([0, 0], dtype=int32), 1: array([1, 0], dtype=int32)},\n",
       " 1: {0: array([1, 1], dtype=int32), 1: array([0, 1], dtype=int32)},\n",
       " 2: {0: array([1, 1], dtype=int32), 1: array([0, 1], dtype=int32)},\n",
       " 3: {0: array([0, 0], dtype=int32), 1: array([1, 0], dtype=int32)}}"
      ]
     },
     "execution_count": 13,
     "metadata": {},
     "output_type": "execute_result"
    }
   ],
   "source": [
    "vtr_3_2"
   ]
  },
  {
   "cell_type": "code",
   "execution_count": 14,
   "id": "134cdf9f-6854-4bdc-91c5-6342f1d0fcfb",
   "metadata": {},
   "outputs": [],
   "source": [
    "kern_5_2 = [[1, 0, 1, 0, 1], [1, 0, 1, 1, 0]]\n",
    "kern_5_2 = np.array(kern_5_2)"
   ]
  },
  {
   "cell_type": "code",
   "execution_count": 15,
   "id": "d7c030a2-1137-44e0-9762-19c0755e165e",
   "metadata": {},
   "outputs": [],
   "source": [
    "vtr_5_2 = viterbi_transition_graph(kern_5_2)"
   ]
  },
  {
   "cell_type": "code",
   "execution_count": 16,
   "id": "7f3d7317-e2ea-4c72-b8fe-5ca82b76c4db",
   "metadata": {},
   "outputs": [],
   "source": [
    "kern_4_2 = [[1, 0, 1, 0], [0, 1, 1, 1]]\n",
    "kern_4_2 = np.array(kern_4_2)"
   ]
  },
  {
   "cell_type": "code",
   "execution_count": 17,
   "id": "801e163f-98df-428a-83a0-4fb30fa7a3d0",
   "metadata": {},
   "outputs": [],
   "source": [
    "vtr_4_2 = viterbi_transition_graph(kern_4_2)"
   ]
  },
  {
   "cell_type": "code",
   "execution_count": 18,
   "id": "d876af53-d519-4a96-b0be-82105905d893",
   "metadata": {},
   "outputs": [
    {
     "data": {
      "text/plain": [
       "{0: {0: array([0, 0], dtype=int32), 1: array([0, 1], dtype=int32)},\n",
       " 1: {0: array([1, 1], dtype=int32), 1: array([1, 0], dtype=int32)},\n",
       " 2: {0: array([0, 1], dtype=int32), 1: array([0, 0], dtype=int32)},\n",
       " 3: {0: array([1, 0], dtype=int32), 1: array([1, 1], dtype=int32)},\n",
       " 4: {0: array([1, 0], dtype=int32), 1: array([1, 1], dtype=int32)},\n",
       " 5: {0: array([0, 1], dtype=int32), 1: array([0, 0], dtype=int32)},\n",
       " 6: {0: array([1, 1], dtype=int32), 1: array([1, 0], dtype=int32)},\n",
       " 7: {0: array([0, 0], dtype=int32), 1: array([0, 1], dtype=int32)}}"
      ]
     },
     "execution_count": 18,
     "metadata": {},
     "output_type": "execute_result"
    }
   ],
   "source": [
    "vtr_4_2"
   ]
  },
  {
   "cell_type": "code",
   "execution_count": null,
   "id": "db487b9c-faf8-4de2-a3b8-9dcc6b513933",
   "metadata": {},
   "outputs": [],
   "source": []
  },
  {
   "cell_type": "code",
   "execution_count": null,
   "id": "406e5592-010b-4cd8-bff6-d016e9b286ee",
   "metadata": {},
   "outputs": [],
   "source": []
  },
  {
   "cell_type": "code",
   "execution_count": null,
   "id": "dfe67447-85e9-416e-9ea8-ed63dd6bf400",
   "metadata": {},
   "outputs": [],
   "source": []
  },
  {
   "cell_type": "code",
   "execution_count": 19,
   "id": "d7788773-72d7-4757-a7f8-b0f92daae188",
   "metadata": {},
   "outputs": [],
   "source": [
    "data_02 = [1, 0, 1, 1, 1, 0, 0, 1, 1, 0, 1, 0, 0, 0]"
   ]
  },
  {
   "cell_type": "code",
   "execution_count": 20,
   "id": "dfea06da-7fd7-41aa-93ee-a3914ff756a5",
   "metadata": {},
   "outputs": [],
   "source": [
    "data_02 = np.array(data_02)"
   ]
  },
  {
   "cell_type": "code",
   "execution_count": null,
   "id": "493ec234-6711-45ac-af48-388c2f9a487d",
   "metadata": {},
   "outputs": [],
   "source": []
  },
  {
   "cell_type": "code",
   "execution_count": 21,
   "id": "b7a21d8b-d530-4af7-9e02-098351dbb15b",
   "metadata": {},
   "outputs": [],
   "source": [
    "data_02a = [1, 1, 0, 0, 1, 0, 0, 1]"
   ]
  },
  {
   "cell_type": "code",
   "execution_count": 22,
   "id": "76fe2865-0e56-44f6-af47-f77ec81173c9",
   "metadata": {},
   "outputs": [],
   "source": [
    "data_02a = np.array(data_02a)"
   ]
  },
  {
   "cell_type": "code",
   "execution_count": 23,
   "id": "e98c492a-48e5-41b8-8aa8-e566079c1d47",
   "metadata": {},
   "outputs": [],
   "source": [
    "data_02a_ec_5_2 = convolutional_encode_np(data_02a, kern_5_2)"
   ]
  },
  {
   "cell_type": "code",
   "execution_count": 24,
   "id": "9699132f-53d4-41f4-8b1c-2821fcda010a",
   "metadata": {},
   "outputs": [
    {
     "name": "stdout",
     "output_type": "stream",
     "text": [
      "[1 0 1 1 1 0 1 1 0 1 1 0 1 1 1 0]\n"
     ]
    }
   ],
   "source": [
    "print(data_02a_ec_5_2)"
   ]
  },
  {
   "cell_type": "code",
   "execution_count": null,
   "id": "8ceb7835-a781-4c7e-95e7-fb132c08dd3f",
   "metadata": {},
   "outputs": [],
   "source": []
  },
  {
   "cell_type": "code",
   "execution_count": 25,
   "id": "6523bf7a-b1bb-40ba-bfab-5e53e2a5f35a",
   "metadata": {},
   "outputs": [],
   "source": [
    "data_02_ec_3_2 = convolutional_encode_np(data_02, kern_3_2)"
   ]
  },
  {
   "cell_type": "code",
   "execution_count": 26,
   "id": "4baba6b4-c216-416f-8d9b-cdbed50ee634",
   "metadata": {},
   "outputs": [
    {
     "data": {
      "text/plain": [
       "array([1, 0, 1, 1, 0, 1, 0, 1, 1, 0, 0, 0, 1, 1, 1, 0, 0, 1, 0, 0, 0, 1,\n",
       "       1, 1, 1, 1, 0, 0])"
      ]
     },
     "execution_count": 26,
     "metadata": {},
     "output_type": "execute_result"
    }
   ],
   "source": [
    "data_02_ec_3_2"
   ]
  },
  {
   "cell_type": "code",
   "execution_count": 27,
   "id": "ce70a6df-1fa7-4f17-8d89-f53a39d62984",
   "metadata": {},
   "outputs": [],
   "source": [
    "data_02_dc_3_2 = viterbi_decode_convolutional(data_02_ec_3_2, 2, 3, vtr_3_2)"
   ]
  },
  {
   "cell_type": "code",
   "execution_count": 28,
   "id": "19fa1b60-4704-4d4c-8358-cbe74e4699b9",
   "metadata": {},
   "outputs": [
    {
     "data": {
      "text/plain": [
       "array([ True,  True,  True,  True,  True,  True,  True,  True,  True,\n",
       "        True,  True,  True,  True,  True])"
      ]
     },
     "execution_count": 28,
     "metadata": {},
     "output_type": "execute_result"
    }
   ],
   "source": [
    "data_02_dc_3_2 == data_02"
   ]
  },
  {
   "cell_type": "code",
   "execution_count": 29,
   "id": "f4abc35c-8db3-4ce2-9638-a44226add65d",
   "metadata": {},
   "outputs": [],
   "source": [
    "# now simulate error\n",
    "data_02_ec_3_2_err = np.copy(data_02_ec_3_2)\n",
    "data_02_ec_3_2_err[5] = 1 - data_02_ec_3_2_err[5]\n",
    "data_02_ec_3_2_err[14] = 1 - data_02_ec_3_2_err[14]"
   ]
  },
  {
   "cell_type": "code",
   "execution_count": 30,
   "id": "defc15b4-5468-4045-b5e5-12075b1ffc0e",
   "metadata": {},
   "outputs": [],
   "source": [
    "data_02_dc_3_2_a = viterbi_decode_convolutional(data_02_ec_3_2_err, 2, 3, vtr_3_2)"
   ]
  },
  {
   "cell_type": "code",
   "execution_count": 31,
   "id": "5e6c1766-0092-4c6c-bbc4-888550c8acee",
   "metadata": {},
   "outputs": [
    {
     "data": {
      "text/plain": [
       "array([ True,  True,  True,  True,  True,  True,  True,  True,  True,\n",
       "        True,  True,  True,  True,  True])"
      ]
     },
     "execution_count": 31,
     "metadata": {},
     "output_type": "execute_result"
    }
   ],
   "source": [
    "data_02_dc_3_2_a == data_02"
   ]
  },
  {
   "cell_type": "code",
   "execution_count": null,
   "id": "3d5bfbb5-974b-4446-b284-5a43b66e04f8",
   "metadata": {},
   "outputs": [],
   "source": []
  },
  {
   "cell_type": "code",
   "execution_count": 32,
   "id": "603ef529-05f3-4c78-9992-7cf48569852d",
   "metadata": {},
   "outputs": [],
   "source": [
    "data_02_ec_5_2 = convolutional_encode_np(data_02, kern_5_2)\n",
    "data_02_dc_5_2 = viterbi_decode_convolutional(data_02_ec_5_2, 2, 5, vtr_5_2)"
   ]
  },
  {
   "cell_type": "code",
   "execution_count": 33,
   "id": "1e0d0ce1-4461-4146-a644-75460d6e9403",
   "metadata": {},
   "outputs": [
    {
     "data": {
      "text/plain": [
       "array([ True,  True,  True,  True,  True,  True,  True,  True,  True,\n",
       "        True,  True,  True,  True,  True])"
      ]
     },
     "execution_count": 33,
     "metadata": {},
     "output_type": "execute_result"
    }
   ],
   "source": [
    "data_02_dc_5_2 == data_02"
   ]
  },
  {
   "cell_type": "code",
   "execution_count": 34,
   "id": "2c18f29a-24d6-415d-b3eb-011be09ba614",
   "metadata": {},
   "outputs": [
    {
     "data": {
      "text/plain": [
       "numpy.ndarray"
      ]
     },
     "execution_count": 34,
     "metadata": {},
     "output_type": "execute_result"
    }
   ],
   "source": [
    "type(data_02_dc_5_2)"
   ]
  },
  {
   "cell_type": "code",
   "execution_count": null,
   "id": "429fef97-f706-4845-8fd4-2a8829805729",
   "metadata": {},
   "outputs": [],
   "source": []
  },
  {
   "cell_type": "code",
   "execution_count": 45,
   "id": "3aadfb86-3a06-4c67-9b11-1c55f957a880",
   "metadata": {},
   "outputs": [],
   "source": [
    "data_03 = [0, 1, 0, 1, 1, 1, 1, 0, 1, 0, 1, 0, 0, 0, 0, 1, 1, 0, 1, 1, 0, 1, 1, 0, 0, 0, 0]\n",
    "data_03 = np.array(data_03)"
   ]
  },
  {
   "cell_type": "code",
   "execution_count": 46,
   "id": "6c0b2f84-4687-4530-b13a-58e9e4cf4fc5",
   "metadata": {},
   "outputs": [],
   "source": [
    "convcoder = ConvCode(kern_5_2)"
   ]
  },
  {
   "cell_type": "code",
   "execution_count": 47,
   "id": "48cc9793-2b9f-46c8-971e-22f1a8687726",
   "metadata": {},
   "outputs": [],
   "source": [
    "# encode\n",
    "data_03_coded = convcoder.encode(data_03)"
   ]
  },
  {
   "cell_type": "code",
   "execution_count": 48,
   "id": "36443ec6-2055-433a-a50b-2734614884a6",
   "metadata": {},
   "outputs": [
    {
     "data": {
      "text/plain": [
       "array([0, 0, 1, 0, 0, 1, 0, 1, 1, 1, 1, 1, 0, 0, 0, 1, 1, 0, 1, 0, 1, 0,\n",
       "       0, 1, 0, 0, 0, 0, 1, 1, 1, 0, 1, 1, 1, 0, 0, 1, 0, 0, 0, 1, 0, 1,\n",
       "       0, 0, 0, 1, 1, 1, 1, 1, 1, 1])"
      ]
     },
     "execution_count": 48,
     "metadata": {},
     "output_type": "execute_result"
    }
   ],
   "source": [
    "data_03_coded"
   ]
  },
  {
   "cell_type": "code",
   "execution_count": 49,
   "id": "726ffd69-2c91-41df-98f7-ecdaebeac2b1",
   "metadata": {},
   "outputs": [],
   "source": [
    "err_ct = 4\n",
    "err_locations = [int(random.random() * len(data_03_coded)) for i in range(err_ct)]"
   ]
  },
  {
   "cell_type": "code",
   "execution_count": 50,
   "id": "f349c3b2-4aec-4dd0-b7ff-1993a5840ac8",
   "metadata": {},
   "outputs": [
    {
     "data": {
      "text/plain": [
       "[21, 46, 37, 21]"
      ]
     },
     "execution_count": 50,
     "metadata": {},
     "output_type": "execute_result"
    }
   ],
   "source": [
    "err_locations"
   ]
  },
  {
   "cell_type": "code",
   "execution_count": 51,
   "id": "7c427307-0cf7-4474-9b6a-1ae628b057b5",
   "metadata": {},
   "outputs": [],
   "source": [
    "# simulate errors\n",
    "received = np.copy(data_03_coded)\n",
    "for eloc in err_locations:\n",
    "    newbit = 1 - received[eloc]\n",
    "    received[eloc] = newbit"
   ]
  },
  {
   "cell_type": "code",
   "execution_count": 52,
   "id": "b0c6a89d-0ac4-4f81-a48e-a5028fa1bc26",
   "metadata": {},
   "outputs": [
    {
     "data": {
      "text/plain": [
       "array([0, 0, 1, 0, 0, 1, 0, 1, 1, 1, 1, 1, 0, 0, 0, 1, 1, 0, 1, 0, 1, 0,\n",
       "       0, 1, 0, 0, 0, 0, 1, 1, 1, 0, 1, 1, 1, 0, 0, 0, 0, 0, 0, 1, 0, 1,\n",
       "       0, 0, 1, 1, 1, 1, 1, 1, 1, 1])"
      ]
     },
     "execution_count": 52,
     "metadata": {},
     "output_type": "execute_result"
    }
   ],
   "source": [
    "received"
   ]
  },
  {
   "cell_type": "code",
   "execution_count": 53,
   "id": "38b465cf-589a-4790-b8e3-3a8513444b08",
   "metadata": {},
   "outputs": [],
   "source": [
    "# decode\n",
    "decoded = convcoder.decode(received)"
   ]
  },
  {
   "cell_type": "code",
   "execution_count": 54,
   "id": "0752c83e-db29-4771-9d4a-840068ac8d0d",
   "metadata": {},
   "outputs": [
    {
     "data": {
      "text/plain": [
       "array([ True,  True,  True,  True,  True,  True,  True,  True,  True,\n",
       "        True,  True,  True,  True,  True,  True,  True,  True,  True,\n",
       "        True,  True,  True,  True,  True,  True,  True,  True,  True])"
      ]
     },
     "execution_count": 54,
     "metadata": {},
     "output_type": "execute_result"
    }
   ],
   "source": [
    "decoded == data_03"
   ]
  },
  {
   "cell_type": "code",
   "execution_count": null,
   "id": "139ae96f-e4c5-48df-91eb-550781f5d0a6",
   "metadata": {},
   "outputs": [],
   "source": []
  }
 ],
 "metadata": {
  "kernelspec": {
   "display_name": "Python 3 (ipykernel)",
   "language": "python",
   "name": "python3"
  },
  "language_info": {
   "codemirror_mode": {
    "name": "ipython",
    "version": 3
   },
   "file_extension": ".py",
   "mimetype": "text/x-python",
   "name": "python",
   "nbconvert_exporter": "python",
   "pygments_lexer": "ipython3",
   "version": "3.10.11"
  }
 },
 "nbformat": 4,
 "nbformat_minor": 5
}
