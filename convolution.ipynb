{
 "cells": [
  {
   "cell_type": "code",
   "execution_count": 27,
   "id": "c570d999-4eb6-4279-b3d8-7cec93170d02",
   "metadata": {},
   "outputs": [],
   "source": [
    "def convolutional_encode(data, kernels):\n",
    "    '''\n",
    "    data: list(int) stream of data as bits\n",
    "    kernels: list(list(int)), the convolutional kernels in this code\n",
    "    '''\n",
    "    l = len(kernels[0])\n",
    "    g = len(kernels)\n",
    "\n",
    "    res = []\n",
    "\n",
    "    # add a padding at the end\n",
    "    data_padded = data + ([0,] * (l-1))\n",
    "    for i in range(len(data)):\n",
    "        cur_window = data_padded[i:i+l]\n",
    "\n",
    "        # for each kernel\n",
    "        for k in kernels:\n",
    "            # do the convolution and add to output\n",
    "            res.append(sum([cur_window[j] * k[j] for j in range(l)]) % 2)\n",
    "    return res"
   ]
  },
  {
   "cell_type": "code",
   "execution_count": 29,
   "id": "a17fd272-d173-4219-8c22-f5e1ec4befb1",
   "metadata": {},
   "outputs": [],
   "source": [
    "data_01 = [1, 0, 1, 1, 1, 0, 0]\n",
    "kern_3_2 = [[1, 1, 1], [1, 1, 0]]"
   ]
  },
  {
   "cell_type": "code",
   "execution_count": 30,
   "id": "8bfcc294-7989-4bf5-be70-0a8f7e973cc3",
   "metadata": {},
   "outputs": [],
   "source": [
    "outp_01 = convolutional_encode(data_01, kern_3_2)"
   ]
  },
  {
   "cell_type": "code",
   "execution_count": 31,
   "id": "83bbf012-53a7-4c11-9f2f-3b5872613a8a",
   "metadata": {},
   "outputs": [
    {
     "data": {
      "text/plain": [
       "[0, 1, 0, 1, 1, 0, 0, 0, 1, 1, 0, 0, 0, 0]"
      ]
     },
     "execution_count": 31,
     "metadata": {},
     "output_type": "execute_result"
    }
   ],
   "source": [
    "outp_01"
   ]
  },
  {
   "cell_type": "code",
   "execution_count": 32,
   "id": "ec3f2bc2-a144-4b4c-ba86-6f8c3ae8ace3",
   "metadata": {},
   "outputs": [
    {
     "data": {
      "text/plain": [
       "14"
      ]
     },
     "execution_count": 32,
     "metadata": {},
     "output_type": "execute_result"
    }
   ],
   "source": [
    "len(outp_01)"
   ]
  },
  {
   "cell_type": "code",
   "execution_count": 33,
   "id": "e7ad6a0d-d531-4ed3-a8bf-a9e898bac229",
   "metadata": {},
   "outputs": [
    {
     "data": {
      "text/plain": [
       "7"
      ]
     },
     "execution_count": 33,
     "metadata": {},
     "output_type": "execute_result"
    }
   ],
   "source": [
    "len(data_01)"
   ]
  },
  {
   "cell_type": "code",
   "execution_count": null,
   "id": "95fed6fb-bb00-4850-b373-2213b4563f16",
   "metadata": {},
   "outputs": [],
   "source": []
  }
 ],
 "metadata": {
  "kernelspec": {
   "display_name": "Python 3 (ipykernel)",
   "language": "python",
   "name": "python3"
  },
  "language_info": {
   "codemirror_mode": {
    "name": "ipython",
    "version": 3
   },
   "file_extension": ".py",
   "mimetype": "text/x-python",
   "name": "python",
   "nbconvert_exporter": "python",
   "pygments_lexer": "ipython3",
   "version": "3.10.11"
  }
 },
 "nbformat": 4,
 "nbformat_minor": 5
}
